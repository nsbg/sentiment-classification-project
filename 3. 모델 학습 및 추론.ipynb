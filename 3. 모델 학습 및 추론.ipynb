{
 "cells": [
  {
   "cell_type": "code",
   "execution_count": 1,
   "id": "1e2428c3",
   "metadata": {},
   "outputs": [],
   "source": [
    "import random\n",
    "import numpy as np\n",
    "import pandas as pd\n",
    "import matplotlib.pyplot as plt\n",
    "\n",
    "from utils.functions import *\n",
    "\n",
    "from models.CNN.cnn import CNN\n",
    "from models.RNN.rnn import RNN\n",
    "from models.Transformer.classifier import Transformer \n",
    "\n",
    "from torch.utils.data import Dataset, DataLoader\n",
    "\n",
    "import torch\n",
    "import torch.nn as nn\n",
    "import torch.optim as optim\n",
    "import torch.nn.functional as F"
   ]
  },
  {
   "cell_type": "code",
   "execution_count": 2,
   "id": "bcf81c7d",
   "metadata": {},
   "outputs": [],
   "source": [
    "SEED = 777\n",
    "\n",
    "set_seed(SEED)"
   ]
  },
  {
   "cell_type": "code",
   "execution_count": 3,
   "id": "07b8d17a",
   "metadata": {},
   "outputs": [
    {
     "name": "stdout",
     "output_type": "stream",
     "text": [
      "NVIDIA GeForce RTX 3090\n"
     ]
    }
   ],
   "source": [
    "device = torch.device('cuda' if torch.cuda.is_available() else 'cpu')\n",
    "\n",
    "if device == torch.device('cuda'):\n",
    "    print(torch.cuda.get_device_name())"
   ]
  },
  {
   "cell_type": "code",
   "execution_count": 4,
   "id": "9c6764fa",
   "metadata": {},
   "outputs": [],
   "source": [
    "train = pd.read_csv('./dataset/train.csv')\n",
    "test = pd.read_csv('./dataset/test.csv')"
   ]
  },
  {
   "cell_type": "code",
   "execution_count": 5,
   "id": "3ff1678c",
   "metadata": {},
   "outputs": [],
   "source": [
    "int2char = {key: value for key, value in enumerate(train['감정_대분류'].unique())}\n",
    "char2int = {key: value for value, key in enumerate(train['감정_대분류'].unique())}"
   ]
  },
  {
   "cell_type": "code",
   "execution_count": 6,
   "id": "7279b6d5",
   "metadata": {},
   "outputs": [
    {
     "data": {
      "text/plain": [
       "{'불안': 0, '기쁨': 1, '분노': 2, '슬픔': 3, '상처': 4, '당황': 5}"
      ]
     },
     "execution_count": 6,
     "metadata": {},
     "output_type": "execute_result"
    }
   ],
   "source": [
    "char2int"
   ]
  },
  {
   "cell_type": "code",
   "execution_count": 7,
   "id": "b94c4796",
   "metadata": {},
   "outputs": [],
   "source": [
    "train['감정_대분류'] = [char2int[i] for i in train['감정_대분류']]"
   ]
  },
  {
   "cell_type": "code",
   "execution_count": 8,
   "id": "3218332d",
   "metadata": {},
   "outputs": [
    {
     "data": {
      "text/html": [
       "<div>\n",
       "<style scoped>\n",
       "    .dataframe tbody tr th:only-of-type {\n",
       "        vertical-align: middle;\n",
       "    }\n",
       "\n",
       "    .dataframe tbody tr th {\n",
       "        vertical-align: top;\n",
       "    }\n",
       "\n",
       "    .dataframe thead th {\n",
       "        text-align: right;\n",
       "    }\n",
       "</style>\n",
       "<table border=\"1\" class=\"dataframe\">\n",
       "  <thead>\n",
       "    <tr style=\"text-align: right;\">\n",
       "      <th></th>\n",
       "      <th>성별</th>\n",
       "      <th>감정_대분류</th>\n",
       "      <th>사람문장1</th>\n",
       "      <th>사람문장2</th>\n",
       "    </tr>\n",
       "  </thead>\n",
       "  <tbody>\n",
       "    <tr>\n",
       "      <th>0</th>\n",
       "      <td>남성</td>\n",
       "      <td>0</td>\n",
       "      <td>당뇨랑 합병증 때문에 먹어야 할 약이 열 가지가 넘어가니까 스트레스야.</td>\n",
       "      <td>건강할 때 관리 좀 잘할걸 하는 생각이 들더라고.</td>\n",
       "    </tr>\n",
       "    <tr>\n",
       "      <th>1</th>\n",
       "      <td>남성</td>\n",
       "      <td>1</td>\n",
       "      <td>재취업이 돼서 받게 된 첫 월급으로 온 가족이 외식을 할 예정이야. 너무 행복해.</td>\n",
       "      <td>퇴직 후 다시는 돈을 못 벌 줄 알았는데 이렇게 월급으로 가족에게 맛있는 밥을 살 ...</td>\n",
       "    </tr>\n",
       "    <tr>\n",
       "      <th>2</th>\n",
       "      <td>여성</td>\n",
       "      <td>1</td>\n",
       "      <td>빚을 드디어 다 갚게 되어서 이제야 안도감이 들어.</td>\n",
       "      <td>빚도 다 갚았으니 당분간은 아무 생각도 안 하며 살고 싶어.</td>\n",
       "    </tr>\n",
       "    <tr>\n",
       "      <th>3</th>\n",
       "      <td>남성</td>\n",
       "      <td>2</td>\n",
       "      <td>이제 돈이라면 지긋지긋해.</td>\n",
       "      <td>나이가 예순이 넘으니 돈이 나갈 데도 많고 힘드네.</td>\n",
       "    </tr>\n",
       "    <tr>\n",
       "      <th>4</th>\n",
       "      <td>여성</td>\n",
       "      <td>3</td>\n",
       "      <td>친구 때문에 눈물 나.</td>\n",
       "      <td>내 친구가 나한테 거짓말했어.</td>\n",
       "    </tr>\n",
       "    <tr>\n",
       "      <th>...</th>\n",
       "      <td>...</td>\n",
       "      <td>...</td>\n",
       "      <td>...</td>\n",
       "      <td>...</td>\n",
       "    </tr>\n",
       "    <tr>\n",
       "      <th>10744</th>\n",
       "      <td>남성</td>\n",
       "      <td>4</td>\n",
       "      <td>회사에 남아서 일을 더 하고 싶었는데 권고사직을 당해버렸어.</td>\n",
       "      <td>난 아직도 충분히 더 일할 능력이 있다고 생각했는데 나의 착각이었나 봐.</td>\n",
       "    </tr>\n",
       "    <tr>\n",
       "      <th>10745</th>\n",
       "      <td>남성</td>\n",
       "      <td>0</td>\n",
       "      <td>나이가 들어서 그런지 갑자기 아무것도 보이지 않다가 다시 시력이 돌아왔어.</td>\n",
       "      <td>정말 깜짝 놀랐어. 이럴 때 나이가 들었다는 걸 실감해서 너무 불안해.</td>\n",
       "    </tr>\n",
       "    <tr>\n",
       "      <th>10746</th>\n",
       "      <td>남성</td>\n",
       "      <td>5</td>\n",
       "      <td>아이고 이거 큰일이네.</td>\n",
       "      <td>하나밖에 없는 딸아이 결혼식이 다음 달인데 병원에서 입원하라는데?</td>\n",
       "    </tr>\n",
       "    <tr>\n",
       "      <th>10747</th>\n",
       "      <td>여성</td>\n",
       "      <td>3</td>\n",
       "      <td>내가 나이가 들어 죽을 때가 되니까 자식들에게 이제야 연락이 와서 나를 챙기는 것 같아.</td>\n",
       "      <td>내 자식들은 그냥 내가 남길 돈만 생각하는 것 같아.</td>\n",
       "    </tr>\n",
       "    <tr>\n",
       "      <th>10748</th>\n",
       "      <td>남성</td>\n",
       "      <td>0</td>\n",
       "      <td>툭하면 술을 마시자고 불러내는 친구의 전화에 이제는 진절머리가 나.</td>\n",
       "      <td>하루 이틀 전에도 계속 그랬었는데 정말 스트레스받을 지경이야.</td>\n",
       "    </tr>\n",
       "  </tbody>\n",
       "</table>\n",
       "<p>10749 rows × 4 columns</p>\n",
       "</div>"
      ],
      "text/plain": [
       "       성별  감정_대분류                                              사람문장1  \\\n",
       "0      남성       0            당뇨랑 합병증 때문에 먹어야 할 약이 열 가지가 넘어가니까 스트레스야.   \n",
       "1      남성       1      재취업이 돼서 받게 된 첫 월급으로 온 가족이 외식을 할 예정이야. 너무 행복해.   \n",
       "2      여성       1                       빚을 드디어 다 갚게 되어서 이제야 안도감이 들어.   \n",
       "3      남성       2                                     이제 돈이라면 지긋지긋해.   \n",
       "4      여성       3                                       친구 때문에 눈물 나.   \n",
       "...    ..     ...                                                ...   \n",
       "10744  남성       4                  회사에 남아서 일을 더 하고 싶었는데 권고사직을 당해버렸어.   \n",
       "10745  남성       0          나이가 들어서 그런지 갑자기 아무것도 보이지 않다가 다시 시력이 돌아왔어.   \n",
       "10746  남성       5                                       아이고 이거 큰일이네.   \n",
       "10747  여성       3  내가 나이가 들어 죽을 때가 되니까 자식들에게 이제야 연락이 와서 나를 챙기는 것 같아.   \n",
       "10748  남성       0              툭하면 술을 마시자고 불러내는 친구의 전화에 이제는 진절머리가 나.   \n",
       "\n",
       "                                                   사람문장2  \n",
       "0                            건강할 때 관리 좀 잘할걸 하는 생각이 들더라고.  \n",
       "1      퇴직 후 다시는 돈을 못 벌 줄 알았는데 이렇게 월급으로 가족에게 맛있는 밥을 살 ...  \n",
       "2                      빚도 다 갚았으니 당분간은 아무 생각도 안 하며 살고 싶어.  \n",
       "3                           나이가 예순이 넘으니 돈이 나갈 데도 많고 힘드네.  \n",
       "4                                       내 친구가 나한테 거짓말했어.  \n",
       "...                                                  ...  \n",
       "10744           난 아직도 충분히 더 일할 능력이 있다고 생각했는데 나의 착각이었나 봐.  \n",
       "10745            정말 깜짝 놀랐어. 이럴 때 나이가 들었다는 걸 실감해서 너무 불안해.  \n",
       "10746               하나밖에 없는 딸아이 결혼식이 다음 달인데 병원에서 입원하라는데?  \n",
       "10747                      내 자식들은 그냥 내가 남길 돈만 생각하는 것 같아.  \n",
       "10748                 하루 이틀 전에도 계속 그랬었는데 정말 스트레스받을 지경이야.  \n",
       "\n",
       "[10749 rows x 4 columns]"
      ]
     },
     "execution_count": 8,
     "metadata": {},
     "output_type": "execute_result"
    }
   ],
   "source": [
    "train # '감정_대분류' 인코딩 확인"
   ]
  },
  {
   "cell_type": "code",
   "execution_count": 9,
   "id": "fd9efb45",
   "metadata": {},
   "outputs": [],
   "source": [
    "train_df = train.sample(frac=0.8, random_state=777).reset_index() # 전체 데이터셋의 80%를 학습 데이터로 사용\n",
    "valid_df = train.drop(train_df.index).reset_index()"
   ]
  },
  {
   "cell_type": "code",
   "execution_count": 10,
   "id": "4a5386d5",
   "metadata": {},
   "outputs": [
    {
     "data": {
      "text/html": [
       "<div>\n",
       "<style scoped>\n",
       "    .dataframe tbody tr th:only-of-type {\n",
       "        vertical-align: middle;\n",
       "    }\n",
       "\n",
       "    .dataframe tbody tr th {\n",
       "        vertical-align: top;\n",
       "    }\n",
       "\n",
       "    .dataframe thead th {\n",
       "        text-align: right;\n",
       "    }\n",
       "</style>\n",
       "<table border=\"1\" class=\"dataframe\">\n",
       "  <thead>\n",
       "    <tr style=\"text-align: right;\">\n",
       "      <th></th>\n",
       "      <th>index</th>\n",
       "      <th>성별</th>\n",
       "      <th>감정_대분류</th>\n",
       "      <th>사람문장1</th>\n",
       "      <th>사람문장2</th>\n",
       "    </tr>\n",
       "  </thead>\n",
       "  <tbody>\n",
       "    <tr>\n",
       "      <th>0</th>\n",
       "      <td>8599</td>\n",
       "      <td>남성</td>\n",
       "      <td>5</td>\n",
       "      <td>노인정에 갔는데 다들 자식 자랑에 바쁘더라고. 난 거기서 겉돌기만 하니 외로워.</td>\n",
       "      <td>아들이 집을 사 줬다느니 딸이 명품을 사 줬다느니 자랑하는데 할 말도 없고 당황스럽...</td>\n",
       "    </tr>\n",
       "    <tr>\n",
       "      <th>1</th>\n",
       "      <td>8600</td>\n",
       "      <td>남성</td>\n",
       "      <td>0</td>\n",
       "      <td>녹내장 때문에 밤에 눈이 보이지 않아 활동을 할 수 없는 것이 안타까워.</td>\n",
       "      <td>녹내장뿐만 아니라 눈이 점점 취약해지는 것이 불안하게 하는 것 같아.</td>\n",
       "    </tr>\n",
       "    <tr>\n",
       "      <th>2</th>\n",
       "      <td>8601</td>\n",
       "      <td>남성</td>\n",
       "      <td>5</td>\n",
       "      <td>체력이 부족해서 아내에게 같이 운동을 하자고 하는데 한 번도 하지 않으니 답답해.</td>\n",
       "      <td>체력이 모자라서 함께 운동하자는데 자기는 필요 없다고 하니 당황스럽더라고.</td>\n",
       "    </tr>\n",
       "    <tr>\n",
       "      <th>3</th>\n",
       "      <td>8602</td>\n",
       "      <td>남성</td>\n",
       "      <td>0</td>\n",
       "      <td>요새 코로나 때문에 외국에서 유학 중인 아이들이 걱정돼.</td>\n",
       "      <td>외국에 있다가 코로나에 걸리면 치료도 늦는다고 하더라고.</td>\n",
       "    </tr>\n",
       "    <tr>\n",
       "      <th>4</th>\n",
       "      <td>8603</td>\n",
       "      <td>남성</td>\n",
       "      <td>4</td>\n",
       "      <td>벼룩의 간을 빼지!</td>\n",
       "      <td>며칠 후에 입원을 해야 하는데\\n급하다 해서 병원비를 빌려줬더니 함흥차사야.</td>\n",
       "    </tr>\n",
       "    <tr>\n",
       "      <th>...</th>\n",
       "      <td>...</td>\n",
       "      <td>...</td>\n",
       "      <td>...</td>\n",
       "      <td>...</td>\n",
       "      <td>...</td>\n",
       "    </tr>\n",
       "    <tr>\n",
       "      <th>2145</th>\n",
       "      <td>10744</td>\n",
       "      <td>남성</td>\n",
       "      <td>4</td>\n",
       "      <td>회사에 남아서 일을 더 하고 싶었는데 권고사직을 당해버렸어.</td>\n",
       "      <td>난 아직도 충분히 더 일할 능력이 있다고 생각했는데 나의 착각이었나 봐.</td>\n",
       "    </tr>\n",
       "    <tr>\n",
       "      <th>2146</th>\n",
       "      <td>10745</td>\n",
       "      <td>남성</td>\n",
       "      <td>0</td>\n",
       "      <td>나이가 들어서 그런지 갑자기 아무것도 보이지 않다가 다시 시력이 돌아왔어.</td>\n",
       "      <td>정말 깜짝 놀랐어. 이럴 때 나이가 들었다는 걸 실감해서 너무 불안해.</td>\n",
       "    </tr>\n",
       "    <tr>\n",
       "      <th>2147</th>\n",
       "      <td>10746</td>\n",
       "      <td>남성</td>\n",
       "      <td>5</td>\n",
       "      <td>아이고 이거 큰일이네.</td>\n",
       "      <td>하나밖에 없는 딸아이 결혼식이 다음 달인데 병원에서 입원하라는데?</td>\n",
       "    </tr>\n",
       "    <tr>\n",
       "      <th>2148</th>\n",
       "      <td>10747</td>\n",
       "      <td>여성</td>\n",
       "      <td>3</td>\n",
       "      <td>내가 나이가 들어 죽을 때가 되니까 자식들에게 이제야 연락이 와서 나를 챙기는 것 같아.</td>\n",
       "      <td>내 자식들은 그냥 내가 남길 돈만 생각하는 것 같아.</td>\n",
       "    </tr>\n",
       "    <tr>\n",
       "      <th>2149</th>\n",
       "      <td>10748</td>\n",
       "      <td>남성</td>\n",
       "      <td>0</td>\n",
       "      <td>툭하면 술을 마시자고 불러내는 친구의 전화에 이제는 진절머리가 나.</td>\n",
       "      <td>하루 이틀 전에도 계속 그랬었는데 정말 스트레스받을 지경이야.</td>\n",
       "    </tr>\n",
       "  </tbody>\n",
       "</table>\n",
       "<p>2150 rows × 5 columns</p>\n",
       "</div>"
      ],
      "text/plain": [
       "      index  성별  감정_대분류                                              사람문장1  \\\n",
       "0      8599  남성       5       노인정에 갔는데 다들 자식 자랑에 바쁘더라고. 난 거기서 겉돌기만 하니 외로워.   \n",
       "1      8600  남성       0           녹내장 때문에 밤에 눈이 보이지 않아 활동을 할 수 없는 것이 안타까워.   \n",
       "2      8601  남성       5      체력이 부족해서 아내에게 같이 운동을 하자고 하는데 한 번도 하지 않으니 답답해.   \n",
       "3      8602  남성       0                    요새 코로나 때문에 외국에서 유학 중인 아이들이 걱정돼.   \n",
       "4      8603  남성       4                                         벼룩의 간을 빼지!   \n",
       "...     ...  ..     ...                                                ...   \n",
       "2145  10744  남성       4                  회사에 남아서 일을 더 하고 싶었는데 권고사직을 당해버렸어.   \n",
       "2146  10745  남성       0          나이가 들어서 그런지 갑자기 아무것도 보이지 않다가 다시 시력이 돌아왔어.   \n",
       "2147  10746  남성       5                                       아이고 이거 큰일이네.   \n",
       "2148  10747  여성       3  내가 나이가 들어 죽을 때가 되니까 자식들에게 이제야 연락이 와서 나를 챙기는 것 같아.   \n",
       "2149  10748  남성       0              툭하면 술을 마시자고 불러내는 친구의 전화에 이제는 진절머리가 나.   \n",
       "\n",
       "                                                  사람문장2  \n",
       "0     아들이 집을 사 줬다느니 딸이 명품을 사 줬다느니 자랑하는데 할 말도 없고 당황스럽...  \n",
       "1                녹내장뿐만 아니라 눈이 점점 취약해지는 것이 불안하게 하는 것 같아.  \n",
       "2             체력이 모자라서 함께 운동하자는데 자기는 필요 없다고 하니 당황스럽더라고.  \n",
       "3                       외국에 있다가 코로나에 걸리면 치료도 늦는다고 하더라고.  \n",
       "4            며칠 후에 입원을 해야 하는데\\n급하다 해서 병원비를 빌려줬더니 함흥차사야.  \n",
       "...                                                 ...  \n",
       "2145           난 아직도 충분히 더 일할 능력이 있다고 생각했는데 나의 착각이었나 봐.  \n",
       "2146            정말 깜짝 놀랐어. 이럴 때 나이가 들었다는 걸 실감해서 너무 불안해.  \n",
       "2147               하나밖에 없는 딸아이 결혼식이 다음 달인데 병원에서 입원하라는데?  \n",
       "2148                      내 자식들은 그냥 내가 남길 돈만 생각하는 것 같아.  \n",
       "2149                 하루 이틀 전에도 계속 그랬었는데 정말 스트레스받을 지경이야.  \n",
       "\n",
       "[2150 rows x 5 columns]"
      ]
     },
     "execution_count": 10,
     "metadata": {},
     "output_type": "execute_result"
    }
   ],
   "source": [
    "valid_df"
   ]
  },
  {
   "cell_type": "code",
   "execution_count": 11,
   "id": "833cb5e4",
   "metadata": {},
   "outputs": [],
   "source": [
    "train_sentences, train_label = encode_data(train_df)\n",
    "valid_sentences, valid_label = encode_data(valid_df)\n",
    "test_sentences, test_label = encode_data(test)"
   ]
  },
  {
   "cell_type": "code",
   "execution_count": 12,
   "id": "acd48015",
   "metadata": {},
   "outputs": [],
   "source": [
    "class EmotionDataset(Dataset):\n",
    "    def __init__(self, sentence, label, mode=None):\n",
    "        self.sentence = sentence\n",
    "        self.label = label\n",
    "        self.mode = mode\n",
    "        self.max_len = 152\n",
    "        \n",
    "    def __len__(self):\n",
    "        return len(self.label)\n",
    "    \n",
    "    def __getitem__(self, idx):\n",
    "        sentence_item = self.sentence[idx]\n",
    "        label_item = self.label[idx]\n",
    "\n",
    "        if len(sentence_item) < self.max_len:\n",
    "            sentence_item += (self.max_len-len(sentence_item))*[2]\n",
    "        elif len(sentence_item) > self.max_len:\n",
    "            sentence_item = sentence_item[:self.max_len-1] + [1]\n",
    "            \n",
    "        if self.mode == 'train':\n",
    "            return torch.LongTensor(sentence_item), label_item\n",
    "        else:\n",
    "            return torch.LongTensor(sentence_item)"
   ]
  },
  {
   "cell_type": "code",
   "execution_count": 13,
   "id": "d3d764a2",
   "metadata": {},
   "outputs": [],
   "source": [
    "train_dataset = EmotionDataset(train_sentences, train_label, mode='train')\n",
    "valid_dataset = EmotionDataset(valid_sentences, valid_label, mode='train')\n",
    "test_dataset = EmotionDataset(test_sentences, test_label, mode='test')\n",
    "\n",
    "train_dataloader = DataLoader(train_dataset, batch_size=16, shuffle=True)\n",
    "valid_dataloader = DataLoader(valid_dataset, batch_size=16, shuffle=False)\n",
    "test_dataloader = DataLoader(test_dataset, batch_size=16, shuffle=False)"
   ]
  },
  {
   "cell_type": "markdown",
   "id": "d5e233b6",
   "metadata": {},
   "source": [
    "## 공통 하이퍼파라미터"
   ]
  },
  {
   "cell_type": "code",
   "execution_count": 14,
   "id": "09b860a9",
   "metadata": {},
   "outputs": [],
   "source": [
    "LR = 0.001\n",
    "EPOCHS = 80\n",
    "DROPOUT = 0.5\n",
    "NUM_CLASS = 6\n",
    "EMBED_DIM = 100\n",
    "DEVICE = device\n",
    "VOCAB_SIZE = 9735"
   ]
  },
  {
   "cell_type": "markdown",
   "id": "a75b3e53",
   "metadata": {},
   "source": [
    "## CNN"
   ]
  },
  {
   "cell_type": "code",
   "execution_count": 15,
   "id": "d1aecd28",
   "metadata": {},
   "outputs": [],
   "source": [
    "N_FILTERS = [20, 20, 20]\n",
    "FILTER_SIZE = [2, 3, 4]"
   ]
  },
  {
   "cell_type": "code",
   "execution_count": 16,
   "id": "21972cc4",
   "metadata": {},
   "outputs": [],
   "source": [
    "cnn = CNN(VOCAB_SIZE, EMBED_DIM, N_FILTERS, FILTER_SIZE, DROPOUT, NUM_CLASS)"
   ]
  },
  {
   "cell_type": "code",
   "execution_count": 17,
   "id": "0bd08188",
   "metadata": {},
   "outputs": [
    {
     "data": {
      "text/plain": [
       "CNN(\n",
       "  (embedding): Embedding(9735, 100)\n",
       "  (conv1d_layers): ModuleList(\n",
       "    (0): Conv1d(100, 20, kernel_size=(2,), stride=(1,))\n",
       "    (1): Conv1d(100, 20, kernel_size=(3,), stride=(1,))\n",
       "    (2): Conv1d(100, 20, kernel_size=(4,), stride=(1,))\n",
       "  )\n",
       "  (fc_layer): Linear(in_features=60, out_features=6, bias=True)\n",
       "  (dropout): Dropout(p=0.5, inplace=False)\n",
       ")"
      ]
     },
     "execution_count": 17,
     "metadata": {},
     "output_type": "execute_result"
    }
   ],
   "source": [
    "cnn"
   ]
  },
  {
   "cell_type": "code",
   "execution_count": 17,
   "id": "b5ea221c",
   "metadata": {},
   "outputs": [],
   "source": [
    "optimizer = optim.AdamW(cnn.parameters(), lr=LR, weight_decay=1e-2)"
   ]
  },
  {
   "cell_type": "code",
   "execution_count": 18,
   "id": "8080de15",
   "metadata": {
    "scrolled": true
   },
   "outputs": [
    {
     "name": "stdout",
     "output_type": "stream",
     "text": [
      "Start Training ...\n",
      "\n",
      "\n",
      " Epoch  |  Train Loss  |  Val Loss  |  Val Acc \n",
      "------------------------------------------------\n",
      "   1    |   1.770934   |  1.434435  |   50.96   \n",
      "   2    |   1.486955   |  1.234439  |   59.48   \n",
      "   3    |   1.333173   |  1.080661  |   65.68   \n",
      "   4    |   1.200237   |  0.968861  |   69.78   \n",
      "   5    |   1.092784   |  0.873244  |   73.50   \n",
      "   6    |   1.006004   |  0.803054  |   76.23   \n",
      "   7    |   0.931838   |  0.730732  |   79.27   \n",
      "   8    |   0.861415   |  0.670603  |   80.62   \n",
      "   9    |   0.804022   |  0.630972  |   82.56   \n",
      "  10    |   0.751083   |  0.588147  |   83.43   \n",
      "  11    |   0.711904   |  0.551633  |   84.88   \n",
      "  12    |   0.656744   |  0.526022  |   85.20   \n",
      "  13    |   0.610176   |  0.503019  |   85.88   \n",
      "  14    |   0.589512   |  0.479252  |   86.81   \n",
      "  15    |   0.550384   |  0.450765  |   87.87   \n",
      "  16    |   0.523515   |  0.443288  |   87.93   \n",
      "  17    |   0.504884   |  0.426429  |   88.29   \n",
      "  18    |   0.470483   |  0.413268  |   89.35   \n",
      "  19    |   0.448846   |  0.411246  |   89.86   \n",
      "  20    |   0.435439   |  0.423972  |   89.72   \n",
      "  21    |   0.392259   |  0.416084  |   90.32   \n",
      "  22    |   0.393292   |  0.417335  |   89.95   \n",
      "  23    |   0.378963   |  0.406967  |   90.05   \n",
      "  24    |   0.354202   |  0.402670  |   90.14   \n",
      "  25    |   0.353389   |  0.403080  |   90.56   \n",
      "  26    |   0.318646   |  0.408836  |   90.97   \n",
      "  27    |   0.323770   |  0.417421  |   90.74   \n",
      "  28    |   0.321768   |  0.411007  |   91.34   \n",
      "  29    |   0.303690   |  0.419994  |   90.88   \n",
      "  30    |   0.279016   |  0.414243  |   91.44   \n",
      "  31    |   0.282422   |  0.423445  |   91.30   \n",
      "  32    |   0.294881   |  0.429398  |   91.30   \n",
      "  33    |   0.268901   |  0.437095  |   91.34   \n",
      "  34    |   0.273372   |  0.443272  |   90.97   \n",
      "  35    |   0.259227   |  0.451197  |   91.16   \n",
      "  36    |   0.251104   |  0.451165  |   91.30   \n",
      "  37    |   0.236039   |  0.459528  |   91.25   \n",
      "  38    |   0.231937   |  0.469707  |   91.06   \n",
      "  39    |   0.233810   |  0.464285  |   91.48   \n",
      "  40    |   0.234243   |  0.466993  |   91.99   \n",
      "  41    |   0.241854   |  0.486779  |   91.57   \n",
      "  42    |   0.222926   |  0.497968  |   91.39   \n",
      "  43    |   0.213087   |  0.484432  |   91.44   \n",
      "  44    |   0.212939   |  0.494181  |   91.44   \n",
      "  45    |   0.205712   |  0.508948  |   91.39   \n",
      "  46    |   0.198267   |  0.511034  |   91.48   \n",
      "  47    |   0.191908   |  0.526856  |   91.02   \n",
      "  48    |   0.191722   |  0.535967  |   91.53   \n",
      "  49    |   0.202240   |  0.544634  |   91.16   \n",
      "  50    |   0.186375   |  0.560725  |   91.16   \n",
      "  51    |   0.188158   |  0.568303  |   91.06   \n",
      "  52    |   0.169522   |  0.564136  |   91.20   \n",
      "  53    |   0.176537   |  0.574750  |   91.16   \n",
      "  54    |   0.171313   |  0.575186  |   91.53   \n",
      "  55    |   0.178033   |  0.578761  |   91.62   \n",
      "  56    |   0.170884   |  0.582019  |   91.62   \n",
      "  57    |   0.164692   |  0.594081  |   91.39   \n",
      "  58    |   0.175176   |  0.598454  |   91.02   \n",
      "  59    |   0.163529   |  0.596727  |   91.53   \n",
      "  60    |   0.156860   |  0.620857  |   91.11   \n",
      "  61    |   0.153053   |  0.615387  |   91.20   \n",
      "  62    |   0.158016   |  0.631180  |   91.39   \n",
      "  63    |   0.153981   |  0.623939  |   91.39   \n",
      "  64    |   0.156168   |  0.623894  |   91.44   \n",
      "  65    |   0.150309   |  0.623363  |   91.34   \n",
      "  66    |   0.149216   |  0.628230  |   91.34   \n",
      "  67    |   0.154101   |  0.635753  |   91.34   \n",
      "  68    |   0.150979   |  0.623125  |   91.16   \n",
      "  69    |   0.152147   |  0.627192  |   91.44   \n",
      "  70    |   0.140050   |  0.628003  |   91.57   \n",
      "  71    |   0.136838   |  0.640722  |   91.48   \n",
      "  72    |   0.126360   |  0.657779  |   91.48   \n",
      "  73    |   0.133895   |  0.664333  |   91.25   \n",
      "  74    |   0.139296   |  0.665009  |   91.25   \n",
      "  75    |   0.129240   |  0.656489  |   91.62   \n",
      "  76    |   0.131638   |  0.676434  |   91.44   \n",
      "  77    |   0.134480   |  0.665810  |   91.48   \n",
      "  78    |   0.130074   |  0.671296  |   91.34   \n",
      "  79    |   0.127813   |  0.669716  |   91.44   \n",
      "  80    |   0.128342   |  0.687498  |   91.25   \n",
      "\n",
      "\n",
      "End Training .\n"
     ]
    }
   ],
   "source": [
    "cnn_train_loss, cnn_valid_loss = train_model(cnn, optimizer, train_dataloader, valid_dataloader, EPOCHS, DEVICE)"
   ]
  },
  {
   "cell_type": "code",
   "execution_count": 19,
   "id": "b3ec2905",
   "metadata": {},
   "outputs": [
    {
     "data": {
      "image/png": "[encoded data removed]",
      "text/plain": [
       "<Figure size 216x216 with 1 Axes>"
      ]
     },
     "metadata": {
      "needs_background": "light"
     },
     "output_type": "display_data"
    }
   ],
   "source": [
    "total_train_loss = np.array(cnn_train_loss)\n",
    "total_valid_loss = np.array(cnn_valid_loss)\n",
    "\n",
    "plt.figure(figsize = (3,3))\n",
    "\n",
    "plt.plot(total_train_loss, label=\"train_loss\")\n",
    "plt.plot(total_valid_loss, label=\"valid_loss\")\n",
    "\n",
    "plt.xlabel(\"Epochs\")\n",
    "plt.ylabel(\"loss\")\n",
    "\n",
    "plt.legend(loc='best')\n",
    "\n",
    "plt.show()"
   ]
  },
  {
   "cell_type": "code",
   "execution_count": 20,
   "id": "fede7cec",
   "metadata": {},
   "outputs": [],
   "source": [
    "cnn_preds = make_prediction(cnn, test_dataloader, DEVICE)"
   ]
  },
  {
   "cell_type": "code",
   "execution_count": 21,
   "id": "50be990b",
   "metadata": {},
   "outputs": [],
   "source": [
    "cnn_preds = [int2char[i] for i in cnn_preds]"
   ]
  },
  {
   "cell_type": "code",
   "execution_count": 22,
   "id": "42d71241",
   "metadata": {},
   "outputs": [],
   "source": [
    "cnn_cnt = 0\n",
    "\n",
    "for prediction, answer in zip(cnn_preds, test['감정_대분류'].tolist()):\n",
    "    if prediction == answer:\n",
    "        cnn_cnt += 1"
   ]
  },
  {
   "cell_type": "code",
   "execution_count": 23,
   "id": "8ac384ff",
   "metadata": {},
   "outputs": [
    {
     "name": "stdout",
     "output_type": "stream",
     "text": [
      ">> 테스트 데이터 개수: 725개\n",
      ">> 정답 개수: 453개\n",
      ">> 정확도: 62.48%\n"
     ]
    }
   ],
   "source": [
    "print(f'>> 테스트 데이터 개수: {len(test_sentences)}개')\n",
    "print(f'>> 정답 개수: {cnn_cnt}개')\n",
    "print(f'>> 정확도: {round(cnn_cnt/len(test_sentences)*100, 2)}%')"
   ]
  },
  {
   "cell_type": "markdown",
   "id": "dbaa122f",
   "metadata": {},
   "source": [
    "## RNN"
   ]
  },
  {
   "cell_type": "code",
   "execution_count": 18,
   "id": "f1176e0a",
   "metadata": {},
   "outputs": [],
   "source": [
    "HIDDEN_DIM = 150\n",
    "N_LAYERS = 2"
   ]
  },
  {
   "cell_type": "code",
   "execution_count": 19,
   "id": "b682b298",
   "metadata": {},
   "outputs": [],
   "source": [
    "rnn = RNN(VOCAB_SIZE, EMBED_DIM, HIDDEN_DIM, N_LAYERS, DROPOUT, NUM_CLASS, DEVICE)"
   ]
  },
  {
   "cell_type": "code",
   "execution_count": 20,
   "id": "33ac1100",
   "metadata": {},
   "outputs": [
    {
     "data": {
      "text/plain": [
       "RNN(\n",
       "  (embed): Embedding(9735, 100)\n",
       "  (dropout): Dropout(p=0.5, inplace=False)\n",
       "  (gru): GRU(100, 150, num_layers=2, batch_first=True)\n",
       "  (linear_layer): Linear(in_features=150, out_features=6, bias=True)\n",
       ")"
      ]
     },
     "execution_count": 20,
     "metadata": {},
     "output_type": "execute_result"
    }
   ],
   "source": [
    "rnn"
   ]
  },
  {
   "cell_type": "code",
   "execution_count": 26,
   "id": "93b08a35",
   "metadata": {},
   "outputs": [],
   "source": [
    "optimizer = optim.AdamW(rnn.parameters(), lr=LR, weight_decay=1e-2)"
   ]
  },
  {
   "cell_type": "code",
   "execution_count": 27,
   "id": "0949f8d6",
   "metadata": {},
   "outputs": [
    {
     "name": "stdout",
     "output_type": "stream",
     "text": [
      "Start Training ...\n",
      "\n",
      "\n",
      " Epoch  |  Train Loss  |  Val Loss  |  Val Acc \n",
      "------------------------------------------------\n",
      "   1    |   1.800246   |  1.792120  |   16.70   \n",
      "   2    |   1.789712   |  1.744622  |   24.61   \n",
      "   3    |   1.599114   |  1.354089  |   44.07   \n",
      "   4    |   1.282946   |  1.129895  |   56.19   \n",
      "   5    |   1.071157   |  0.950051  |   66.60   \n",
      "   6    |   0.851692   |  0.738954  |   76.40   \n",
      "   7    |   0.654703   |  0.647263  |   79.98   \n",
      "   8    |   0.493026   |  0.542104  |   84.65   \n",
      "   9    |   0.367799   |  0.508986  |   86.73   \n",
      "  10    |   0.292738   |  0.489268  |   87.78   \n",
      "  11    |   0.227778   |  0.502959  |   88.01   \n",
      "  12    |   0.191833   |  0.508285  |   89.35   \n",
      "  13    |   0.146004   |  0.541494  |   88.98   \n",
      "  14    |   0.143429   |  0.498110  |   89.17   \n",
      "  15    |   0.116499   |  0.576597  |   89.58   \n",
      "  16    |   0.103156   |  0.592785  |   89.81   \n",
      "  17    |   0.110463   |  0.546414  |   89.58   \n",
      "  18    |   0.093030   |  0.617928  |   88.89   \n",
      "  19    |   0.085556   |  0.651979  |   88.15   \n",
      "  20    |   0.075599   |  0.522254  |   90.19   \n",
      "  21    |   0.071326   |  0.580173  |   90.14   \n",
      "  22    |   0.076437   |  0.583537  |   90.56   \n",
      "  23    |   0.074665   |  0.610496  |   89.81   \n",
      "  24    |   0.068121   |  0.605093  |   90.79   \n",
      "  25    |   0.061451   |  0.594588  |   90.51   \n",
      "  26    |   0.061296   |  0.592893  |   90.37   \n",
      "  27    |   0.063593   |  0.562669  |   90.69   \n",
      "  28    |   0.057914   |  0.577457  |   90.65   \n",
      "  29    |   0.057752   |  0.601273  |   90.60   \n",
      "  30    |   0.053160   |  0.595320  |   91.11   \n",
      "  31    |   0.044869   |  0.653249  |   89.81   \n",
      "  32    |   0.048033   |  0.602549  |   90.32   \n",
      "  33    |   0.058055   |  0.592787  |   90.00   \n",
      "  34    |   0.051267   |  0.578410  |   90.37   \n",
      "  35    |   0.042815   |  0.576306  |   90.28   \n",
      "  36    |   0.033622   |  0.539067  |   90.79   \n",
      "  37    |   0.046429   |  0.579965  |   90.65   \n",
      "  38    |   0.043304   |  0.614031  |   90.37   \n",
      "  39    |   0.047881   |  0.577027  |   91.02   \n",
      "  40    |   0.044331   |  0.599047  |   90.79   \n",
      "  41    |   0.044857   |  0.620816  |   89.86   \n",
      "  42    |   0.044913   |  0.572271  |   91.57   \n",
      "  43    |   0.027340   |  0.590870  |   91.16   \n",
      "  44    |   0.035539   |  0.600861  |   91.02   \n",
      "  45    |   0.040092   |  0.561925  |   91.06   \n",
      "  46    |   0.039117   |  0.585916  |   90.85   \n",
      "  47    |   0.025564   |  0.600189  |   90.93   \n",
      "  48    |   0.027873   |  0.562773  |   91.25   \n",
      "  49    |   0.031445   |  0.617991  |   90.79   \n",
      "  50    |   0.038179   |  0.646996  |   90.79   \n",
      "  51    |   0.036743   |  0.635342  |   90.74   \n",
      "  52    |   0.033566   |  0.617375  |   90.88   \n",
      "  53    |   0.032168   |  0.631180  |   90.46   \n",
      "  54    |   0.029611   |  0.607907  |   91.20   \n",
      "  55    |   0.029805   |  0.613010  |   91.16   \n",
      "  56    |   0.037129   |  0.608754  |   90.56   \n",
      "  57    |   0.039525   |  0.590368  |   91.11   \n",
      "  58    |   0.028473   |  0.588881  |   91.44   \n",
      "  59    |   0.029408   |  0.661560  |   90.42   \n",
      "  60    |   0.024695   |  0.584052  |   90.79   \n",
      "  61    |   0.032561   |  0.603632  |   91.02   \n",
      "  62    |   0.027822   |  0.588808  |   91.44   \n",
      "  63    |   0.027896   |  0.617467  |   90.65   \n",
      "  64    |   0.030319   |  0.627722  |   90.93   \n",
      "  65    |   0.031277   |  0.554721  |   91.34   \n",
      "  66    |   0.026495   |  0.560614  |   91.20   \n",
      "  67    |   0.023230   |  0.597609  |   91.16   \n",
      "  68    |   0.019191   |  0.662950  |   90.60   \n",
      "  69    |   0.031463   |  0.629415  |   90.83   \n",
      "  70    |   0.037024   |  0.554545  |   91.39   \n",
      "  71    |   0.028159   |  0.597980  |   90.37   \n",
      "  72    |   0.026539   |  0.606769  |   91.02   \n",
      "  73    |   0.022165   |  0.660128  |   90.32   \n",
      "  74    |   0.018700   |  0.571119  |   91.44   \n",
      "  75    |   0.022630   |  0.595976  |   91.34   \n",
      "  76    |   0.031427   |  0.592476  |   91.11   \n",
      "  77    |   0.028081   |  0.591271  |   91.34   \n",
      "  78    |   0.025584   |  0.588573  |   90.93   \n",
      "  79    |   0.032863   |  0.639906  |   90.88   \n",
      "  80    |   0.020885   |  0.569875  |   91.39   \n",
      "\n",
      "\n",
      "End Training .\n"
     ]
    }
   ],
   "source": [
    "rnn_train_loss, rnn_valid_loss = train_model(rnn, optimizer, train_dataloader, valid_dataloader, EPOCHS, DEVICE)"
   ]
  },
  {
   "cell_type": "code",
   "execution_count": 28,
   "id": "0d4d6c70",
   "metadata": {},
   "outputs": [
    {
     "data": {
      "image/png": "[encoded data removed]",
      "text/plain": [
       "<Figure size 216x216 with 1 Axes>"
      ]
     },
     "metadata": {
      "needs_background": "light"
     },
     "output_type": "display_data"
    }
   ],
   "source": [
    "total_train_loss = np.array(rnn_train_loss)\n",
    "total_valid_loss = np.array(rnn_valid_loss)\n",
    "\n",
    "plt.figure(figsize = (3,3))\n",
    "\n",
    "plt.plot(total_train_loss, label=\"train_loss\")\n",
    "plt.plot(total_valid_loss, label=\"valid_loss\")\n",
    "\n",
    "plt.xlabel(\"Epochs\")\n",
    "plt.ylabel(\"loss\")\n",
    "\n",
    "plt.legend(loc='best')\n",
    "\n",
    "plt.show()"
   ]
  },
  {
   "cell_type": "code",
   "execution_count": 29,
   "id": "c20e62ca",
   "metadata": {},
   "outputs": [],
   "source": [
    "rnn_preds = make_prediction(rnn, test_dataloader, device)"
   ]
  },
  {
   "cell_type": "code",
   "execution_count": 30,
   "id": "6afdef24",
   "metadata": {},
   "outputs": [],
   "source": [
    "rnn_preds = [int2char[i] for i in rnn_preds]"
   ]
  },
  {
   "cell_type": "code",
   "execution_count": 31,
   "id": "957d7252",
   "metadata": {},
   "outputs": [],
   "source": [
    "rnn_cnt = 0\n",
    "\n",
    "for prediction, answer in zip(rnn_preds, test['감정_대분류'].tolist()):\n",
    "    if prediction == answer:\n",
    "        rnn_cnt += 1"
   ]
  },
  {
   "cell_type": "code",
   "execution_count": 32,
   "id": "87a90e41",
   "metadata": {},
   "outputs": [
    {
     "name": "stdout",
     "output_type": "stream",
     "text": [
      ">> 테스트 데이터 개수: 725개\n",
      ">> 정답 개수: 463개\n",
      ">> 정확도: 63.86%\n"
     ]
    }
   ],
   "source": [
    "print(f'>> 테스트 데이터 개수: {len(test_sentences)}개')\n",
    "print(f'>> 정답 개수: {rnn_cnt}개')\n",
    "print(f'>> 정확도: {round(rnn_cnt/len(test_sentences)*100, 2)}%')"
   ]
  },
  {
   "cell_type": "markdown",
   "id": "6d9a2b83",
   "metadata": {},
   "source": [
    "## Transformer"
   ]
  },
  {
   "cell_type": "code",
   "execution_count": 33,
   "id": "d0742ec0",
   "metadata": {},
   "outputs": [],
   "source": [
    "N_LAYER = 1\n",
    "D_MODEL = 152"
   ]
  },
  {
   "cell_type": "code",
   "execution_count": 34,
   "id": "71e32605",
   "metadata": {},
   "outputs": [],
   "source": [
    "transformer = Transformer(VOCAB_SIZE, D_MODEL, N_LAYER, NUM_CLASS)"
   ]
  },
  {
   "cell_type": "code",
   "execution_count": 35,
   "id": "cd173bab",
   "metadata": {},
   "outputs": [],
   "source": [
    "optimizer = optim.AdamW(transformer.parameters(), lr=LR, weight_decay=1e-2)"
   ]
  },
  {
   "cell_type": "code",
   "execution_count": 36,
   "id": "9040622e",
   "metadata": {},
   "outputs": [
    {
     "name": "stdout",
     "output_type": "stream",
     "text": [
      "Start Training ...\n",
      "\n",
      "\n",
      " Epoch  |  Train Loss  |  Val Loss  |  Val Acc \n",
      "------------------------------------------------\n",
      "   1    |   1.767608   |  1.687552  |   32.92   \n",
      "   2    |   1.669078   |  1.570131  |   45.35   \n",
      "   3    |   1.615919   |  1.571580  |   45.88   \n",
      "   4    |   1.601725   |  1.544321  |   48.50   \n",
      "   5    |   1.588428   |  1.538263  |   49.15   \n",
      "   6    |   1.579076   |  1.519912  |   50.99   \n",
      "   7    |   1.567316   |  1.510935  |   51.98   \n",
      "   8    |   1.565632   |  1.496451  |   53.64   \n",
      "   9    |   1.555237   |  1.486326  |   54.65   \n",
      "  10    |   1.542179   |  1.494595  |   54.27   \n",
      "  11    |   1.540560   |  1.476727  |   55.80   \n",
      "  12    |   1.538031   |  1.476561  |   55.80   \n",
      "  13    |   1.535238   |  1.463634  |   57.38   \n",
      "  14    |   1.522454   |  1.466610  |   57.07   \n",
      "  15    |   1.518361   |  1.451118  |   58.43   \n",
      "  16    |   1.509290   |  1.446378  |   58.75   \n",
      "  17    |   1.498203   |  1.434110  |   60.45   \n",
      "  18    |   1.493905   |  1.441078  |   59.20   \n",
      "  19    |   1.495989   |  1.434051  |   60.59   \n",
      "  20    |   1.485817   |  1.428255  |   61.19   \n",
      "  21    |   1.485911   |  1.422142  |   61.54   \n",
      "  22    |   1.470451   |  1.411606  |   62.90   \n",
      "  23    |   1.469506   |  1.410488  |   62.76   \n",
      "  24    |   1.461863   |  1.404865  |   63.33   \n",
      "  25    |   1.459646   |  1.406293  |   62.99   \n",
      "  26    |   1.458139   |  1.395967  |   64.14   \n",
      "  27    |   1.453348   |  1.403545  |   63.67   \n",
      "  28    |   1.450866   |  1.387876  |   65.22   \n",
      "  29    |   1.441643   |  1.389382  |   65.06   \n",
      "  30    |   1.444704   |  1.379894  |   65.99   \n",
      "  31    |   1.436624   |  1.372526  |   66.87   \n",
      "  32    |   1.428829   |  1.375060  |   66.27   \n",
      "  33    |   1.429102   |  1.372931  |   66.79   \n",
      "  34    |   1.427653   |  1.369425  |   67.01   \n",
      "  35    |   1.417915   |  1.367806  |   67.15   \n",
      "  36    |   1.418453   |  1.352598  |   68.86   \n",
      "  37    |   1.415698   |  1.356846  |   68.07   \n",
      "  38    |   1.414657   |  1.348691  |   69.14   \n",
      "  39    |   1.409355   |  1.346515  |   69.23   \n",
      "  40    |   1.401991   |  1.349993  |   68.95   \n",
      "  41    |   1.404221   |  1.345842  |   69.74   \n",
      "  42    |   1.394593   |  1.336136  |   70.25   \n",
      "  43    |   1.394607   |  1.332303  |   70.90   \n",
      "  44    |   1.388978   |  1.336156  |   70.57   \n",
      "  45    |   1.385556   |  1.332059  |   71.03   \n",
      "  46    |   1.384222   |  1.321319  |   72.05   \n",
      "  47    |   1.380435   |  1.322922  |   72.15   \n",
      "  48    |   1.378044   |  1.323941  |   71.77   \n",
      "  49    |   1.374137   |  1.316835  |   72.47   \n",
      "  50    |   1.369632   |  1.318908  |   72.24   \n",
      "  51    |   1.368237   |  1.314172  |   72.75   \n",
      "  52    |   1.370601   |  1.312628  |   72.93   \n",
      "  53    |   1.361826   |  1.308314  |   73.49   \n",
      "  54    |   1.353515   |  1.303006  |   73.63   \n",
      "  55    |   1.357790   |  1.303394  |   73.75   \n",
      "  56    |   1.351091   |  1.298889  |   74.41   \n",
      "  57    |   1.350875   |  1.291481  |   75.11   \n",
      "  58    |   1.348382   |  1.297683  |   74.37   \n",
      "  59    |   1.343281   |  1.288310  |   75.29   \n",
      "  60    |   1.338634   |  1.292579  |   74.88   \n",
      "  61    |   1.339385   |  1.289551  |   75.29   \n",
      "  62    |   1.336593   |  1.285525  |   75.57   \n",
      "  63    |   1.331397   |  1.288727  |   75.15   \n",
      "  64    |   1.330314   |  1.281645  |   75.94   \n",
      "  65    |   1.328673   |  1.279201  |   76.36   \n",
      "  66    |   1.326310   |  1.278923  |   76.36   \n",
      "  67    |   1.324329   |  1.283639  |   75.90   \n",
      "  68    |   1.315059   |  1.284550  |   75.76   \n",
      "  69    |   1.319584   |  1.273827  |   76.77   \n",
      "  70    |   1.315247   |  1.269794  |   77.33   \n",
      "  71    |   1.315652   |  1.270403  |   77.10   \n",
      "  72    |   1.310344   |  1.271367  |   77.15   \n",
      "  73    |   1.312558   |  1.268850  |   77.47   \n",
      "  74    |   1.308283   |  1.270424  |   77.28   \n",
      "  75    |   1.305060   |  1.265791  |   77.65   \n",
      "  76    |   1.297686   |  1.269760  |   77.42   \n",
      "  77    |   1.300530   |  1.259780  |   78.30   \n",
      "  78    |   1.300197   |  1.263228  |   78.02   \n",
      "  79    |   1.292376   |  1.259165  |   78.47   \n",
      "  80    |   1.291918   |  1.263833  |   77.70   \n",
      "\n",
      "\n",
      "End Training .\n"
     ]
    }
   ],
   "source": [
    "transformer_train_loss, transformer_valid_loss = train_model(transformer, optimizer, train_dataloader, valid_dataloader, EPOCHS, DEVICE)"
   ]
  },
  {
   "cell_type": "code",
   "execution_count": 37,
   "id": "d4a388e0",
   "metadata": {},
   "outputs": [
    {
     "data": {
      "image/png": "[encoded data removed]",
      "text/plain": [
       "<Figure size 216x216 with 1 Axes>"
      ]
     },
     "metadata": {
      "needs_background": "light"
     },
     "output_type": "display_data"
    }
   ],
   "source": [
    "total_train_loss = np.array(transformer_train_loss)\n",
    "total_valid_loss = np.array(transformer_valid_loss)\n",
    "\n",
    "plt.figure(figsize = (3,3))\n",
    "\n",
    "plt.plot(total_train_loss, label=\"train_loss\")\n",
    "plt.plot(total_valid_loss, label=\"valid_loss\")\n",
    "\n",
    "plt.xlabel(\"Epochs\")\n",
    "plt.ylabel(\"loss\")\n",
    "\n",
    "plt.legend(loc='best')\n",
    "\n",
    "plt.show()"
   ]
  },
  {
   "cell_type": "code",
   "execution_count": 38,
   "id": "82480dd4",
   "metadata": {},
   "outputs": [],
   "source": [
    "transformer_preds = make_prediction(transformer, test_dataloader, device)"
   ]
  },
  {
   "cell_type": "code",
   "execution_count": 39,
   "id": "723d471a",
   "metadata": {},
   "outputs": [],
   "source": [
    "transformer_preds = [int2char[i] for i in transformer_preds]"
   ]
  },
  {
   "cell_type": "code",
   "execution_count": 40,
   "id": "601c6f4f",
   "metadata": {},
   "outputs": [],
   "source": [
    "transformer_cnt = 0\n",
    "\n",
    "for prediction, answer in zip(transformer_preds, test['감정_대분류'].tolist()):\n",
    "    if prediction == answer:\n",
    "        transformer_cnt += 1"
   ]
  },
  {
   "cell_type": "code",
   "execution_count": 41,
   "id": "59d4703a",
   "metadata": {},
   "outputs": [
    {
     "name": "stdout",
     "output_type": "stream",
     "text": [
      ">> 테스트 데이터 개수: 725개\n",
      ">> 정답 개수: 477개\n",
      ">> 정확도: 65.79%\n"
     ]
    }
   ],
   "source": [
    "print(f'>> 테스트 데이터 개수: {len(test_sentences)}개')\n",
    "print(f'>> 정답 개수: {transformer_cnt}개')\n",
    "print(f'>> 정확도: {round(transformer_cnt/len(test_sentences)*100, 2)}%')"
   ]
  },
  {
   "cell_type": "markdown",
   "id": "7c873cb9",
   "metadata": {},
   "source": [
    "## 결과 저장"
   ]
  },
  {
   "cell_type": "code",
   "execution_count": 42,
   "id": "ad338a6c",
   "metadata": {},
   "outputs": [],
   "source": [
    "test.insert(2, 'CNN_예측', cnn_preds)\n",
    "test.insert(3, 'RNN_예측', rnn_preds)\n",
    "test.insert(4, 'Transformer_예측', transformer_preds)"
   ]
  },
  {
   "cell_type": "code",
   "execution_count": 43,
   "id": "1155a4d6",
   "metadata": {},
   "outputs": [
    {
     "data": {
      "text/html": [
       "<div>\n",
       "<style scoped>\n",
       "    .dataframe tbody tr th:only-of-type {\n",
       "        vertical-align: middle;\n",
       "    }\n",
       "\n",
       "    .dataframe tbody tr th {\n",
       "        vertical-align: top;\n",
       "    }\n",
       "\n",
       "    .dataframe thead th {\n",
       "        text-align: right;\n",
       "    }\n",
       "</style>\n",
       "<table border=\"1\" class=\"dataframe\">\n",
       "  <thead>\n",
       "    <tr style=\"text-align: right;\">\n",
       "      <th></th>\n",
       "      <th>성별</th>\n",
       "      <th>감정_대분류</th>\n",
       "      <th>CNN_예측</th>\n",
       "      <th>RNN 예측</th>\n",
       "      <th>Transformer 예측</th>\n",
       "      <th>사람문장1</th>\n",
       "      <th>사람문장2</th>\n",
       "    </tr>\n",
       "  </thead>\n",
       "  <tbody>\n",
       "    <tr>\n",
       "      <th>0</th>\n",
       "      <td>남성</td>\n",
       "      <td>기쁨</td>\n",
       "      <td>당황</td>\n",
       "      <td>기쁨</td>\n",
       "      <td>당황</td>\n",
       "      <td>지금까지 모은 돈으로 사업하기로 했어. 감개무량해.</td>\n",
       "      <td>응. 평생 월급만 받고 살았다가 사업을 하려고 하니 떨리기도 해.</td>\n",
       "    </tr>\n",
       "    <tr>\n",
       "      <th>1</th>\n",
       "      <td>남성</td>\n",
       "      <td>상처</td>\n",
       "      <td>분노</td>\n",
       "      <td>분노</td>\n",
       "      <td>불안</td>\n",
       "      <td>이번에 새로 들어온 상사가 자꾸 내가 하는 일마다 참견을 하네. 너무 스트레스 받아.</td>\n",
       "      <td>잘 모르겠어. 지금은 그 사람과 말도 하기 싫어.</td>\n",
       "    </tr>\n",
       "    <tr>\n",
       "      <th>2</th>\n",
       "      <td>여성</td>\n",
       "      <td>상처</td>\n",
       "      <td>상처</td>\n",
       "      <td>상처</td>\n",
       "      <td>상처</td>\n",
       "      <td>자식들에게 희생하면서 살아왔던 것 같아.</td>\n",
       "      <td>요즘 나이 들면서 혼자 있는 시간이 많다보니까 외로워서 그러는 것 같아.</td>\n",
       "    </tr>\n",
       "    <tr>\n",
       "      <th>3</th>\n",
       "      <td>남성</td>\n",
       "      <td>상처</td>\n",
       "      <td>분노</td>\n",
       "      <td>상처</td>\n",
       "      <td>상처</td>\n",
       "      <td>아들 수술비 마련하려면 돈을 벌어야 하는데 일을 구하기가 너무 어려워.</td>\n",
       "      <td>내가 만성질환을 앓고 있어서 사람들이 날 안 써줘.</td>\n",
       "    </tr>\n",
       "    <tr>\n",
       "      <th>4</th>\n",
       "      <td>여성</td>\n",
       "      <td>기쁨</td>\n",
       "      <td>기쁨</td>\n",
       "      <td>기쁨</td>\n",
       "      <td>기쁨</td>\n",
       "      <td>건강해서 편안해.</td>\n",
       "      <td>응. 다 나았어.</td>\n",
       "    </tr>\n",
       "    <tr>\n",
       "      <th>...</th>\n",
       "      <td>...</td>\n",
       "      <td>...</td>\n",
       "      <td>...</td>\n",
       "      <td>...</td>\n",
       "      <td>...</td>\n",
       "      <td>...</td>\n",
       "      <td>...</td>\n",
       "    </tr>\n",
       "    <tr>\n",
       "      <th>720</th>\n",
       "      <td>여성</td>\n",
       "      <td>슬픔</td>\n",
       "      <td>슬픔</td>\n",
       "      <td>상처</td>\n",
       "      <td>슬픔</td>\n",
       "      <td>동서는 서방님 병문안 갈 때마다 병원비 좀 보태 달라고 해.</td>\n",
       "      <td>우리 가족도 금전적 여유가 없는데 자꾸 보태 달라고 하니. 우리 입장도 곤란한 걸 ...</td>\n",
       "    </tr>\n",
       "    <tr>\n",
       "      <th>721</th>\n",
       "      <td>여성</td>\n",
       "      <td>슬픔</td>\n",
       "      <td>슬픔</td>\n",
       "      <td>슬픔</td>\n",
       "      <td>슬픔</td>\n",
       "      <td>투자했던 기업의 주가가 떨어졌어.</td>\n",
       "      <td>실망스럽고 그 기업 주가가 왜 떨어졌는지를 모르겠어.</td>\n",
       "    </tr>\n",
       "    <tr>\n",
       "      <th>722</th>\n",
       "      <td>여성</td>\n",
       "      <td>불안</td>\n",
       "      <td>불안</td>\n",
       "      <td>불안</td>\n",
       "      <td>불안</td>\n",
       "      <td>폐결핵은 이미 완치된 것 같은데 약을 한 달이나 더 먹으라고 하네? 아직 안 나은 ...</td>\n",
       "      <td>이대로 혹시 더 심해져서 죽게 되는 건 아닐까?</td>\n",
       "    </tr>\n",
       "    <tr>\n",
       "      <th>723</th>\n",
       "      <td>남성</td>\n",
       "      <td>분노</td>\n",
       "      <td>슬픔</td>\n",
       "      <td>불안</td>\n",
       "      <td>불안</td>\n",
       "      <td>은행 대출이 막혀서 생활비를 구할 수가 없어. 이제 어떻게 살아야 하나 막막해.</td>\n",
       "      <td>당장 내일 밥은 어떡하고 내 병원비는 어쩌지.</td>\n",
       "    </tr>\n",
       "    <tr>\n",
       "      <th>724</th>\n",
       "      <td>남성</td>\n",
       "      <td>분노</td>\n",
       "      <td>분노</td>\n",
       "      <td>슬픔</td>\n",
       "      <td>슬픔</td>\n",
       "      <td>자식들은 키워 준 은혜도 모르고 내게 오지도 않네. 너무 외롭고 슬퍼.</td>\n",
       "      <td>응 이제 다들 독립해가지고 명절 아니면 찾아오질 않아. 안부전화라도 해주면 좋을 텐데.</td>\n",
       "    </tr>\n",
       "  </tbody>\n",
       "</table>\n",
       "<p>725 rows × 7 columns</p>\n",
       "</div>"
      ],
      "text/plain": [
       "     성별 감정_대분류 CNN_예측 RNN 예측 Transformer 예측  \\\n",
       "0    남성     기쁨     당황     기쁨             당황   \n",
       "1    남성     상처     분노     분노             불안   \n",
       "2    여성     상처     상처     상처             상처   \n",
       "3    남성     상처     분노     상처             상처   \n",
       "4    여성     기쁨     기쁨     기쁨             기쁨   \n",
       "..   ..    ...    ...    ...            ...   \n",
       "720  여성     슬픔     슬픔     상처             슬픔   \n",
       "721  여성     슬픔     슬픔     슬픔             슬픔   \n",
       "722  여성     불안     불안     불안             불안   \n",
       "723  남성     분노     슬픔     불안             불안   \n",
       "724  남성     분노     분노     슬픔             슬픔   \n",
       "\n",
       "                                                 사람문장1  \\\n",
       "0                         지금까지 모은 돈으로 사업하기로 했어. 감개무량해.   \n",
       "1      이번에 새로 들어온 상사가 자꾸 내가 하는 일마다 참견을 하네. 너무 스트레스 받아.   \n",
       "2                               자식들에게 희생하면서 살아왔던 것 같아.   \n",
       "3              아들 수술비 마련하려면 돈을 벌어야 하는데 일을 구하기가 너무 어려워.   \n",
       "4                                            건강해서 편안해.   \n",
       "..                                                 ...   \n",
       "720                  동서는 서방님 병문안 갈 때마다 병원비 좀 보태 달라고 해.   \n",
       "721                                 투자했던 기업의 주가가 떨어졌어.   \n",
       "722  폐결핵은 이미 완치된 것 같은데 약을 한 달이나 더 먹으라고 하네? 아직 안 나은 ...   \n",
       "723       은행 대출이 막혀서 생활비를 구할 수가 없어. 이제 어떻게 살아야 하나 막막해.   \n",
       "724            자식들은 키워 준 은혜도 모르고 내게 오지도 않네. 너무 외롭고 슬퍼.   \n",
       "\n",
       "                                                 사람문장2  \n",
       "0                 응. 평생 월급만 받고 살았다가 사업을 하려고 하니 떨리기도 해.  \n",
       "1                          잘 모르겠어. 지금은 그 사람과 말도 하기 싫어.  \n",
       "2             요즘 나이 들면서 혼자 있는 시간이 많다보니까 외로워서 그러는 것 같아.  \n",
       "3                         내가 만성질환을 앓고 있어서 사람들이 날 안 써줘.  \n",
       "4                                            응. 다 나았어.  \n",
       "..                                                 ...  \n",
       "720  우리 가족도 금전적 여유가 없는데 자꾸 보태 달라고 하니. 우리 입장도 곤란한 걸 ...  \n",
       "721                      실망스럽고 그 기업 주가가 왜 떨어졌는지를 모르겠어.  \n",
       "722                         이대로 혹시 더 심해져서 죽게 되는 건 아닐까?  \n",
       "723                          당장 내일 밥은 어떡하고 내 병원비는 어쩌지.  \n",
       "724   응 이제 다들 독립해가지고 명절 아니면 찾아오질 않아. 안부전화라도 해주면 좋을 텐데.  \n",
       "\n",
       "[725 rows x 7 columns]"
      ]
     },
     "execution_count": 43,
     "metadata": {},
     "output_type": "execute_result"
    }
   ],
   "source": [
    "test"
   ]
  },
  {
   "cell_type": "code",
   "execution_count": 44,
   "id": "8bf3ef92",
   "metadata": {},
   "outputs": [],
   "source": [
    "test.to_csv('./dataset/result.csv', index=False, encoding='utf-8-sig')"
   ]
  }
 ],
 "metadata": {
  "kernelspec": {
   "display_name": "Python 3",
   "language": "python",
   "name": "python3"
  },
  "language_info": {
   "codemirror_mode": {
    "name": "ipython",
    "version": 3
   },
   "file_extension": ".py",
   "mimetype": "text/x-python",
   "name": "python",
   "nbconvert_exporter": "python",
   "pygments_lexer": "ipython3",
   "version": "3.8.8"
  }
 },
 "nbformat": 4,
 "nbformat_minor": 5
}
