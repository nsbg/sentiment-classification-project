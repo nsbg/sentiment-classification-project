{
 "cells": [
  {
   "cell_type": "markdown",
   "id": "45da1dc0",
   "metadata": {},
   "source": [
    "## 모듈/라이브러리 선언"
   ]
  },
  {
   "cell_type": "code",
   "execution_count": 1,
   "id": "fd0af871",
   "metadata": {},
   "outputs": [],
   "source": [
    "import pandas as pd\n",
    "import numpy as np\n",
    "\n",
    "from collections import Counter"
   ]
  },
  {
   "cell_type": "markdown",
   "id": "6906bc94",
   "metadata": {},
   "source": [
    "## 데이터 확인"
   ]
  },
  {
   "cell_type": "code",
   "execution_count": 2,
   "id": "e14fcffd",
   "metadata": {},
   "outputs": [],
   "source": [
    "train = pd.read_csv('./dataset/train.csv')"
   ]
  },
  {
   "cell_type": "code",
   "execution_count": 3,
   "id": "1f56beea",
   "metadata": {},
   "outputs": [
    {
     "data": {
      "text/html": [
       "<div>\n",
       "<style scoped>\n",
       "    .dataframe tbody tr th:only-of-type {\n",
       "        vertical-align: middle;\n",
       "    }\n",
       "\n",
       "    .dataframe tbody tr th {\n",
       "        vertical-align: top;\n",
       "    }\n",
       "\n",
       "    .dataframe thead th {\n",
       "        text-align: right;\n",
       "    }\n",
       "</style>\n",
       "<table border=\"1\" class=\"dataframe\">\n",
       "  <thead>\n",
       "    <tr style=\"text-align: right;\">\n",
       "      <th></th>\n",
       "      <th>성별</th>\n",
       "      <th>감정_대분류</th>\n",
       "      <th>사람문장1</th>\n",
       "      <th>사람문장2</th>\n",
       "    </tr>\n",
       "  </thead>\n",
       "  <tbody>\n",
       "    <tr>\n",
       "      <th>0</th>\n",
       "      <td>남성</td>\n",
       "      <td>불안</td>\n",
       "      <td>당뇨랑 합병증 때문에 먹어야 할 약이 열 가지가 넘어가니까 스트레스야.</td>\n",
       "      <td>건강할 때 관리 좀 잘할걸 하는 생각이 들더라고.</td>\n",
       "    </tr>\n",
       "    <tr>\n",
       "      <th>1</th>\n",
       "      <td>남성</td>\n",
       "      <td>기쁨</td>\n",
       "      <td>재취업이 돼서 받게 된 첫 월급으로 온 가족이 외식을 할 예정이야. 너무 행복해.</td>\n",
       "      <td>퇴직 후 다시는 돈을 못 벌 줄 알았는데 이렇게 월급으로 가족에게 맛있는 밥을 살 ...</td>\n",
       "    </tr>\n",
       "    <tr>\n",
       "      <th>2</th>\n",
       "      <td>여성</td>\n",
       "      <td>기쁨</td>\n",
       "      <td>빚을 드디어 다 갚게 되어서 이제야 안도감이 들어.</td>\n",
       "      <td>빚도 다 갚았으니 당분간은 아무 생각도 안 하며 살고 싶어.</td>\n",
       "    </tr>\n",
       "    <tr>\n",
       "      <th>3</th>\n",
       "      <td>남성</td>\n",
       "      <td>분노</td>\n",
       "      <td>이제 돈이라면 지긋지긋해.</td>\n",
       "      <td>나이가 예순이 넘으니 돈이 나갈 데도 많고 힘드네.</td>\n",
       "    </tr>\n",
       "    <tr>\n",
       "      <th>4</th>\n",
       "      <td>여성</td>\n",
       "      <td>슬픔</td>\n",
       "      <td>친구 때문에 눈물 나.</td>\n",
       "      <td>내 친구가 나한테 거짓말했어.</td>\n",
       "    </tr>\n",
       "    <tr>\n",
       "      <th>...</th>\n",
       "      <td>...</td>\n",
       "      <td>...</td>\n",
       "      <td>...</td>\n",
       "      <td>...</td>\n",
       "    </tr>\n",
       "    <tr>\n",
       "      <th>10744</th>\n",
       "      <td>남성</td>\n",
       "      <td>상처</td>\n",
       "      <td>회사에 남아서 일을 더 하고 싶었는데 권고사직을 당해버렸어.</td>\n",
       "      <td>난 아직도 충분히 더 일할 능력이 있다고 생각했는데 나의 착각이었나 봐.</td>\n",
       "    </tr>\n",
       "    <tr>\n",
       "      <th>10745</th>\n",
       "      <td>남성</td>\n",
       "      <td>불안</td>\n",
       "      <td>나이가 들어서 그런지 갑자기 아무것도 보이지 않다가 다시 시력이 돌아왔어.</td>\n",
       "      <td>정말 깜짝 놀랐어. 이럴 때 나이가 들었다는 걸 실감해서 너무 불안해.</td>\n",
       "    </tr>\n",
       "    <tr>\n",
       "      <th>10746</th>\n",
       "      <td>남성</td>\n",
       "      <td>당황</td>\n",
       "      <td>아이고 이거 큰일이네.</td>\n",
       "      <td>하나밖에 없는 딸아이 결혼식이 다음 달인데 병원에서 입원하라는데?</td>\n",
       "    </tr>\n",
       "    <tr>\n",
       "      <th>10747</th>\n",
       "      <td>여성</td>\n",
       "      <td>슬픔</td>\n",
       "      <td>내가 나이가 들어 죽을 때가 되니까 자식들에게 이제야 연락이 와서 나를 챙기는 것 같아.</td>\n",
       "      <td>내 자식들은 그냥 내가 남길 돈만 생각하는 것 같아.</td>\n",
       "    </tr>\n",
       "    <tr>\n",
       "      <th>10748</th>\n",
       "      <td>남성</td>\n",
       "      <td>불안</td>\n",
       "      <td>툭하면 술을 마시자고 불러내는 친구의 전화에 이제는 진절머리가 나.</td>\n",
       "      <td>하루 이틀 전에도 계속 그랬었는데 정말 스트레스받을 지경이야.</td>\n",
       "    </tr>\n",
       "  </tbody>\n",
       "</table>\n",
       "<p>10749 rows × 4 columns</p>\n",
       "</div>"
      ],
      "text/plain": [
       "       성별 감정_대분류                                              사람문장1  \\\n",
       "0      남성     불안            당뇨랑 합병증 때문에 먹어야 할 약이 열 가지가 넘어가니까 스트레스야.   \n",
       "1      남성     기쁨      재취업이 돼서 받게 된 첫 월급으로 온 가족이 외식을 할 예정이야. 너무 행복해.   \n",
       "2      여성     기쁨                       빚을 드디어 다 갚게 되어서 이제야 안도감이 들어.   \n",
       "3      남성     분노                                     이제 돈이라면 지긋지긋해.   \n",
       "4      여성     슬픔                                       친구 때문에 눈물 나.   \n",
       "...    ..    ...                                                ...   \n",
       "10744  남성     상처                  회사에 남아서 일을 더 하고 싶었는데 권고사직을 당해버렸어.   \n",
       "10745  남성     불안          나이가 들어서 그런지 갑자기 아무것도 보이지 않다가 다시 시력이 돌아왔어.   \n",
       "10746  남성     당황                                       아이고 이거 큰일이네.   \n",
       "10747  여성     슬픔  내가 나이가 들어 죽을 때가 되니까 자식들에게 이제야 연락이 와서 나를 챙기는 것 같아.   \n",
       "10748  남성     불안              툭하면 술을 마시자고 불러내는 친구의 전화에 이제는 진절머리가 나.   \n",
       "\n",
       "                                                   사람문장2  \n",
       "0                            건강할 때 관리 좀 잘할걸 하는 생각이 들더라고.  \n",
       "1      퇴직 후 다시는 돈을 못 벌 줄 알았는데 이렇게 월급으로 가족에게 맛있는 밥을 살 ...  \n",
       "2                      빚도 다 갚았으니 당분간은 아무 생각도 안 하며 살고 싶어.  \n",
       "3                           나이가 예순이 넘으니 돈이 나갈 데도 많고 힘드네.  \n",
       "4                                       내 친구가 나한테 거짓말했어.  \n",
       "...                                                  ...  \n",
       "10744           난 아직도 충분히 더 일할 능력이 있다고 생각했는데 나의 착각이었나 봐.  \n",
       "10745            정말 깜짝 놀랐어. 이럴 때 나이가 들었다는 걸 실감해서 너무 불안해.  \n",
       "10746               하나밖에 없는 딸아이 결혼식이 다음 달인데 병원에서 입원하라는데?  \n",
       "10747                      내 자식들은 그냥 내가 남길 돈만 생각하는 것 같아.  \n",
       "10748                 하루 이틀 전에도 계속 그랬었는데 정말 스트레스받을 지경이야.  \n",
       "\n",
       "[10749 rows x 4 columns]"
      ]
     },
     "execution_count": 3,
     "metadata": {},
     "output_type": "execute_result"
    }
   ],
   "source": [
    "train"
   ]
  },
  {
   "cell_type": "code",
   "execution_count": 4,
   "id": "d44e3478",
   "metadata": {},
   "outputs": [
    {
     "data": {
      "text/plain": [
       "[('불안', 1917),\n",
       " ('슬픔', 1847),\n",
       " ('기쁨', 1824),\n",
       " ('분노', 1728),\n",
       " ('상처', 1726),\n",
       " ('당황', 1707)]"
      ]
     },
     "execution_count": 4,
     "metadata": {},
     "output_type": "execute_result"
    }
   ],
   "source": [
    "Counter(train['감정_대분류']).most_common()"
   ]
  }
 ],
 "metadata": {
  "kernelspec": {
   "display_name": "Python 3",
   "language": "python",
   "name": "python3"
  },
  "language_info": {
   "codemirror_mode": {
    "name": "ipython",
    "version": 3
   },
   "file_extension": ".py",
   "mimetype": "text/x-python",
   "name": "python",
   "nbconvert_exporter": "python",
   "pygments_lexer": "ipython3",
   "version": "3.8.8"
  }
 },
 "nbformat": 4,
 "nbformat_minor": 5
}
