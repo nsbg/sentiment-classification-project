{
 "cells": [
  {
   "cell_type": "code",
   "execution_count": 1,
   "id": "656cedcf",
   "metadata": {},
   "outputs": [],
   "source": [
    "from konlpy.tag import Mecab\n",
    "\n",
    "import os\n",
    "import pandas as pd"
   ]
  },
  {
   "cell_type": "code",
   "execution_count": 2,
   "id": "b7dca8a0",
   "metadata": {},
   "outputs": [],
   "source": [
    "VOCAB_FILE = './utils/vocab.txt'"
   ]
  },
  {
   "cell_type": "code",
   "execution_count": 3,
   "id": "c2839928",
   "metadata": {},
   "outputs": [],
   "source": [
    "tokenizer = Mecab(dicpath=r'C:\\mecab\\mecab-ko-dic')"
   ]
  },
  {
   "cell_type": "code",
   "execution_count": 4,
   "id": "7ed60c8b",
   "metadata": {},
   "outputs": [],
   "source": [
    "train = pd.read_csv('./dataset/train.csv')\n",
    "test = pd.read_csv('./dataset/test.csv')"
   ]
  },
  {
   "cell_type": "code",
   "execution_count": 5,
   "id": "3a2dacf3",
   "metadata": {},
   "outputs": [
    {
     "data": {
      "text/html": [
       "<div>\n",
       "<style scoped>\n",
       "    .dataframe tbody tr th:only-of-type {\n",
       "        vertical-align: middle;\n",
       "    }\n",
       "\n",
       "    .dataframe tbody tr th {\n",
       "        vertical-align: top;\n",
       "    }\n",
       "\n",
       "    .dataframe thead th {\n",
       "        text-align: right;\n",
       "    }\n",
       "</style>\n",
       "<table border=\"1\" class=\"dataframe\">\n",
       "  <thead>\n",
       "    <tr style=\"text-align: right;\">\n",
       "      <th></th>\n",
       "      <th>사람문장1</th>\n",
       "      <th>사람문장2</th>\n",
       "    </tr>\n",
       "  </thead>\n",
       "  <tbody>\n",
       "    <tr>\n",
       "      <th>0</th>\n",
       "      <td>당뇨랑 합병증 때문에 먹어야 할 약이 열 가지가 넘어가니까 스트레스야.</td>\n",
       "      <td>건강할 때 관리 좀 잘할걸 하는 생각이 들더라고.</td>\n",
       "    </tr>\n",
       "    <tr>\n",
       "      <th>1</th>\n",
       "      <td>재취업이 돼서 받게 된 첫 월급으로 온 가족이 외식을 할 예정이야. 너무 행복해.</td>\n",
       "      <td>퇴직 후 다시는 돈을 못 벌 줄 알았는데 이렇게 월급으로 가족에게 맛있는 밥을 살 ...</td>\n",
       "    </tr>\n",
       "    <tr>\n",
       "      <th>2</th>\n",
       "      <td>빚을 드디어 다 갚게 되어서 이제야 안도감이 들어.</td>\n",
       "      <td>빚도 다 갚았으니 당분간은 아무 생각도 안 하며 살고 싶어.</td>\n",
       "    </tr>\n",
       "    <tr>\n",
       "      <th>3</th>\n",
       "      <td>이제 돈이라면 지긋지긋해.</td>\n",
       "      <td>나이가 예순이 넘으니 돈이 나갈 데도 많고 힘드네.</td>\n",
       "    </tr>\n",
       "    <tr>\n",
       "      <th>4</th>\n",
       "      <td>친구 때문에 눈물 나.</td>\n",
       "      <td>내 친구가 나한테 거짓말했어.</td>\n",
       "    </tr>\n",
       "    <tr>\n",
       "      <th>...</th>\n",
       "      <td>...</td>\n",
       "      <td>...</td>\n",
       "    </tr>\n",
       "    <tr>\n",
       "      <th>720</th>\n",
       "      <td>동서는 서방님 병문안 갈 때마다 병원비 좀 보태 달라고 해.</td>\n",
       "      <td>우리 가족도 금전적 여유가 없는데 자꾸 보태 달라고 하니. 우리 입장도 곤란한 걸 ...</td>\n",
       "    </tr>\n",
       "    <tr>\n",
       "      <th>721</th>\n",
       "      <td>투자했던 기업의 주가가 떨어졌어.</td>\n",
       "      <td>실망스럽고 그 기업 주가가 왜 떨어졌는지를 모르겠어.</td>\n",
       "    </tr>\n",
       "    <tr>\n",
       "      <th>722</th>\n",
       "      <td>폐결핵은 이미 완치된 것 같은데 약을 한 달이나 더 먹으라고 하네? 아직 안 나은 ...</td>\n",
       "      <td>이대로 혹시 더 심해져서 죽게 되는 건 아닐까?</td>\n",
       "    </tr>\n",
       "    <tr>\n",
       "      <th>723</th>\n",
       "      <td>은행 대출이 막혀서 생활비를 구할 수가 없어. 이제 어떻게 살아야 하나 막막해.</td>\n",
       "      <td>당장 내일 밥은 어떡하고 내 병원비는 어쩌지.</td>\n",
       "    </tr>\n",
       "    <tr>\n",
       "      <th>724</th>\n",
       "      <td>자식들은 키워 준 은혜도 모르고 내게 오지도 않네. 너무 외롭고 슬퍼.</td>\n",
       "      <td>응 이제 다들 독립해가지고 명절 아니면 찾아오질 않아. 안부전화라도 해주면 좋을 텐데.</td>\n",
       "    </tr>\n",
       "  </tbody>\n",
       "</table>\n",
       "<p>11474 rows × 2 columns</p>\n",
       "</div>"
      ],
      "text/plain": [
       "                                                 사람문장1  \\\n",
       "0              당뇨랑 합병증 때문에 먹어야 할 약이 열 가지가 넘어가니까 스트레스야.   \n",
       "1        재취업이 돼서 받게 된 첫 월급으로 온 가족이 외식을 할 예정이야. 너무 행복해.   \n",
       "2                         빚을 드디어 다 갚게 되어서 이제야 안도감이 들어.   \n",
       "3                                       이제 돈이라면 지긋지긋해.   \n",
       "4                                         친구 때문에 눈물 나.   \n",
       "..                                                 ...   \n",
       "720                  동서는 서방님 병문안 갈 때마다 병원비 좀 보태 달라고 해.   \n",
       "721                                 투자했던 기업의 주가가 떨어졌어.   \n",
       "722  폐결핵은 이미 완치된 것 같은데 약을 한 달이나 더 먹으라고 하네? 아직 안 나은 ...   \n",
       "723       은행 대출이 막혀서 생활비를 구할 수가 없어. 이제 어떻게 살아야 하나 막막해.   \n",
       "724            자식들은 키워 준 은혜도 모르고 내게 오지도 않네. 너무 외롭고 슬퍼.   \n",
       "\n",
       "                                                 사람문장2  \n",
       "0                          건강할 때 관리 좀 잘할걸 하는 생각이 들더라고.  \n",
       "1    퇴직 후 다시는 돈을 못 벌 줄 알았는데 이렇게 월급으로 가족에게 맛있는 밥을 살 ...  \n",
       "2                    빚도 다 갚았으니 당분간은 아무 생각도 안 하며 살고 싶어.  \n",
       "3                         나이가 예순이 넘으니 돈이 나갈 데도 많고 힘드네.  \n",
       "4                                     내 친구가 나한테 거짓말했어.  \n",
       "..                                                 ...  \n",
       "720  우리 가족도 금전적 여유가 없는데 자꾸 보태 달라고 하니. 우리 입장도 곤란한 걸 ...  \n",
       "721                      실망스럽고 그 기업 주가가 왜 떨어졌는지를 모르겠어.  \n",
       "722                         이대로 혹시 더 심해져서 죽게 되는 건 아닐까?  \n",
       "723                          당장 내일 밥은 어떡하고 내 병원비는 어쩌지.  \n",
       "724   응 이제 다들 독립해가지고 명절 아니면 찾아오질 않아. 안부전화라도 해주면 좋을 텐데.  \n",
       "\n",
       "[11474 rows x 2 columns]"
      ]
     },
     "execution_count": 5,
     "metadata": {},
     "output_type": "execute_result"
    }
   ],
   "source": [
    "sentences = pd.concat([train[['사람문장1', '사람문장2']], test[['사람문장1', '사람문장2']]])\n",
    "sentences"
   ]
  },
  {
   "cell_type": "code",
   "execution_count": 6,
   "id": "06d8aae1",
   "metadata": {},
   "outputs": [],
   "source": [
    "SOS = '<SOS>'\n",
    "EOS = '<EOS>'\n",
    "PAD = '<PAD>'\n",
    "SEP = '<SEP>'\n",
    "\n",
    "word_list = [SOS, EOS, PAD, SEP]"
   ]
  },
  {
   "cell_type": "code",
   "execution_count": 7,
   "id": "b1739928",
   "metadata": {},
   "outputs": [
    {
     "name": "stdout",
     "output_type": "stream",
     "text": [
      "단어 리스트 중복 제거 전: 426835개\n",
      "단어 리스트 중복 제거 후: 9731개\n"
     ]
    }
   ],
   "source": [
    "tmp_word = []\n",
    "\n",
    "# 각 문장 토큰화\n",
    "for sentence1, sentence2 in sentences.values:\n",
    "    tmp_word.extend(tokenizer.morphs(sentence1))\n",
    "    tmp_word.extend(tokenizer.morphs(sentence2))\n",
    "\n",
    "print(f'단어 리스트 중복 제거 전: {len(tmp_word)}개')\n",
    "\n",
    "# 단어 중복 제거\n",
    "tmp_word = list(set(tmp_word))\n",
    "\n",
    "print(f'단어 리스트 중복 제거 후: {len(tmp_word)}개')"
   ]
  },
  {
   "cell_type": "code",
   "execution_count": 8,
   "id": "356cc0ab",
   "metadata": {},
   "outputs": [],
   "source": [
    "vocab_list = word_list + tmp_word\n",
    "\n",
    "if not os.path.isfile(VOCAB_FILE):\n",
    "    with open(VOCAB_FILE, 'w', encoding='utf-8-sig') as file:\n",
    "        for word in vocab_list:\n",
    "            file.write(word+'\\n')\n",
    "else:\n",
    "    print('Vocab 파일이 존재합니다.')"
   ]
  }
 ],
 "metadata": {
  "kernelspec": {
   "display_name": "Python 3",
   "language": "python",
   "name": "python3"
  },
  "language_info": {
   "codemirror_mode": {
    "name": "ipython",
    "version": 3
   },
   "file_extension": ".py",
   "mimetype": "text/x-python",
   "name": "python",
   "nbconvert_exporter": "python",
   "pygments_lexer": "ipython3",
   "version": "3.8.8"
  }
 },
 "nbformat": 4,
 "nbformat_minor": 5
}
